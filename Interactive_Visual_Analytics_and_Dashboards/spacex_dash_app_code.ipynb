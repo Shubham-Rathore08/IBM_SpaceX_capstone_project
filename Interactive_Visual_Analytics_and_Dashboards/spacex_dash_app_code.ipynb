{
 "cells": [
  {
   "cell_type": "markdown",
   "id": "8adfd79c-3464-4d30-994f-7399249dfe53",
   "metadata": {},
   "source": [
    "# Build an Interactive Dashboard with Plotly Dash\n",
    "\n",
    "In this lab, you will be building a Plotly Dash application for users to perform interactive visual analytics on SpaceX launch data in\n",
    "real-time.\n",
    "\n",
    "This dashboard application contains input components such as a dropdown list and a range slider to interact with a pie chart and a scatter point chart. You will be guided to build this dashboard application via the following tasks:\n",
    "\n",
    "- TASK 1: Add a Launch Site Drop-down Input Component\n",
    "- TASK 2: Add a callback function to render success-pie-chart based on selected site dropdown\n",
    "- TASK 3: Add a Range Slider to Select Payload\n",
    "- TASK 4: Add a callback function to render the success-payload-scatter-chart scatter plot"
   ]
  },
  {
   "cell_type": "markdown",
   "id": "866efb91-8a50-40be-94ab-d766c116595a",
   "metadata": {},
   "source": [
    "### After visual analysis using the dashboard, you should be able to obtain some insights to answer the following five questions:\n",
    "\n",
    "1. Which site has the largest successful launches?\n",
    "2. Which site has the highest launch success rate?\n",
    "3. Which payload range(s) has the highest launch success rate?\n",
    "4. Which payload range(s) has the lowest launch success rate?\n",
    "5. Which F9 Booster version (v1.0, v1.1, FT, B4, B5, etc.) has the highest\n",
    "launch success rate?"
   ]
  },
  {
   "cell_type": "markdown",
   "id": "d2773423-077d-4124-8137-54dad6a21509",
   "metadata": {},
   "source": [
    "## Working in the terminal\n",
    "\n",
    "Copy and paste the below command to the terminal.\n"
   ]
  },
  {
   "cell_type": "markdown",
   "id": "e9e70921-daf1-40eb-8713-48365597da5d",
   "metadata": {},
   "source": [
    "* `python3.8 -m pip install pandas dash`\n",
    "* `wget \"https://cf-courses-data.s3.us.cloud-object-storage.appdomain.cloud/IBM-DS0321EN-SkillsNetwork/datasets/spacex_launch_dash.csv\"`\n",
    "* `wget \"https://cf-courses-data.s3.us.cloud-object-storage.appdomain.cloud/t4-Vy4iOU19i8y6E3Px_ww/spacex-dash-app.py\"`\n",
    "* `python3.8 spacex-dash-app.py`"
   ]
  },
  {
   "cell_type": "markdown",
   "id": "5611e4c1-738a-4484-a879-ebdd807f503a",
   "metadata": {},
   "source": [
    "## Working in the notebook:"
   ]
  },
  {
   "cell_type": "code",
   "execution_count": 1,
   "id": "97b9d8d8-1914-4c01-9b13-4352d3bcc26a",
   "metadata": {},
   "outputs": [
    {
     "ename": "ModuleNotFoundError",
     "evalue": "No module named 'dash'",
     "output_type": "error",
     "traceback": [
      "\u001b[1;31m---------------------------------------------------------------------------\u001b[0m",
      "\u001b[1;31mModuleNotFoundError\u001b[0m                       Traceback (most recent call last)",
      "Cell \u001b[1;32mIn[1], line 3\u001b[0m\n\u001b[0;32m      1\u001b[0m \u001b[38;5;66;03m# Import required libraries\u001b[39;00m\n\u001b[0;32m      2\u001b[0m \u001b[38;5;28;01mimport\u001b[39;00m \u001b[38;5;21;01mpandas\u001b[39;00m \u001b[38;5;28;01mas\u001b[39;00m \u001b[38;5;21;01mpd\u001b[39;00m\n\u001b[1;32m----> 3\u001b[0m \u001b[38;5;28;01mimport\u001b[39;00m \u001b[38;5;21;01mdash\u001b[39;00m\n\u001b[0;32m      4\u001b[0m \u001b[38;5;28;01mfrom\u001b[39;00m \u001b[38;5;21;01mdash\u001b[39;00m \u001b[38;5;28;01mimport\u001b[39;00m html\n\u001b[0;32m      5\u001b[0m \u001b[38;5;28;01mfrom\u001b[39;00m \u001b[38;5;21;01mdash\u001b[39;00m \u001b[38;5;28;01mimport\u001b[39;00m dcc\n",
      "\u001b[1;31mModuleNotFoundError\u001b[0m: No module named 'dash'"
     ]
    }
   ],
   "source": [
    "# Import required libraries\n",
    "import pandas as pd\n",
    "import dash\n",
    "from dash import html\n",
    "from dash import dcc\n",
    "from dash.dependencies import Input, Output\n",
    "import plotly.express as px\n",
    "\n",
    "# Read the airline data into pandas dataframe\n",
    "spacex_df = pd.read_csv(\"spacex_launch_dash.csv\")\n",
    "max_payload = spacex_df['Payload Mass (kg)'].max()\n",
    "min_payload = spacex_df['Payload Mass (kg)'].min()\n",
    "\n",
    "# Create a dash application\n",
    "app = dash.Dash(__name__)\n",
    "\n",
    "# Create an app layout\n",
    "app.layout = html.Div(children=[html.H1('SpaceX Launch Records Dashboard',\n",
    "                                        style={'textAlign': 'center', 'color': '#503D36',\n",
    "                                               'font-size': 40}),\n",
    "                                # TASK 1: Add a dropdown list to enable Launch Site selection\n",
    "                                # The default select value is for ALL sites\n",
    "                                dcc.Dropdown(id='site-dropdown',\n",
    "                                                options=[\n",
    "                                                        {'label': 'All Sites', 'value': 'ALL'}\n",
    "                                                    ] + [{'label': site, 'value': site} for site in spacex_df['Launch Site'].unique()],\n",
    "                                                value='ALL',\n",
    "                                                placeholder=\"Select a Launch Site here\",\n",
    "                                                searchable=True),\n",
    "                                html.Br(),\n",
    "\n",
    "                                # TASK 2: Add a pie chart to show the total successful launches count for all sites\n",
    "                                \n",
    "                                # If a specific launch site was selected, show the Success vs. Failed counts for the site\n",
    "                                html.Div(dcc.Graph(id='success-pie-chart')),\n",
    "                                html.Br(),\n",
    "\n",
    "                                html.P(\"Payload range (Kg):\"),\n",
    "                                # TASK 3: Add a slider to select payload range\n",
    "                                dcc.RangeSlider(id='payload-slider',\n",
    "                                                min=0, max=10000, step=1000,\n",
    "                                                marks={0: '0',\n",
    "                                                        10000: '10000'},\n",
    "                                                value=[0, 10000]),\n",
    "\n",
    "                                # TASK 4: Add a scatter chart to show the correlation between payload and launch success\n",
    "                                html.Div(dcc.Graph(id='success-payload-scatter-chart')),\n",
    "                                ])\n",
    "\n",
    "# TASK 2:\n",
    "# Add a callback function for `site-dropdown` as input, `success-pie-chart` as output\n",
    "# Function decorator to specify function input and output\n",
    "@app.callback(\n",
    "    Output('success-pie-chart', 'figure'),\n",
    "    Input('site-dropdown', 'value')\n",
    ")\n",
    "def update_pie_chart(selected_site):\n",
    "    if selected_site == 'ALL':\n",
    "        # Count total successful launches per site\n",
    "        success_counts = spacex_df[spacex_df['class'] == 1].groupby('Launch Site').size().reset_index(name='success')\n",
    "        fig = px.pie(\n",
    "            success_counts,\n",
    "            names='Launch Site',\n",
    "            values='success',\n",
    "            title='Total Successful Launches by Site'\n",
    "        )\n",
    "    else:\n",
    "        # Filter for the selected site\n",
    "        site_df = spacex_df[spacex_df['Launch Site'] == selected_site]\n",
    "        success_fail_counts = site_df['class'].value_counts().reset_index()\n",
    "        success_fail_counts.columns = ['class', 'count']\n",
    "        fig = px.pie(\n",
    "            success_fail_counts,\n",
    "            names='class',\n",
    "            values='count',\n",
    "            title=f'Total Success vs Failure for site {selected_site}'\n",
    "        )\n",
    "    return fig\n",
    "\n",
    "# TASK 4:\n",
    "# Add a callback function for `site-dropdown` and `payload-slider` as inputs, `success-payload-scatter-chart` as output\n",
    "@app.callback(\n",
    "    Output('success-payload-scatter-chart', 'figure'),\n",
    "    [Input('site-dropdown', 'value'),\n",
    "     Input('payload-slider', 'value')]\n",
    ")\n",
    "def update_scatter_chart(selected_site, payload_range):\n",
    "    low, high = payload_range\n",
    "    filtered_df = spacex_df[\n",
    "        (spacex_df['Payload Mass (kg)'] >= low) &\n",
    "        (spacex_df['Payload Mass (kg)'] <= high)\n",
    "    ]\n",
    "\n",
    "    if selected_site == 'ALL':\n",
    "        fig = px.scatter(\n",
    "            filtered_df,\n",
    "            x='Payload Mass (kg)',\n",
    "            y='class',\n",
    "            color='Booster Version Category',\n",
    "            title='Payload vs Launch Outcome for All Sites'\n",
    "        )\n",
    "    else:\n",
    "        site_df = filtered_df[filtered_df['Launch Site'] == selected_site]\n",
    "        fig = px.scatter(\n",
    "            site_df,\n",
    "            x='Payload Mass (kg)',\n",
    "            y='class',\n",
    "            color='Booster Version Category',\n",
    "            title=f'Payload vs Launch Outcome for site {selected_site}'\n",
    "        )\n",
    "    return fig\n",
    "\n",
    "# Run the app\n",
    "if __name__ == '__main__':\n",
    "    app.run(port=8051, debug=True) \n"
   ]
  },
  {
   "cell_type": "code",
   "execution_count": null,
   "id": "4d84d2c2-6d86-4275-acb8-cfb5c2c04ea5",
   "metadata": {},
   "outputs": [],
   "source": []
  },
  {
   "cell_type": "code",
   "execution_count": null,
   "id": "6ff736a2-8ffc-43fa-9e9f-dddc6dd36e15",
   "metadata": {},
   "outputs": [],
   "source": []
  }
 ],
 "metadata": {
  "kernelspec": {
   "display_name": "Python 3 (ipykernel)",
   "language": "python",
   "name": "python3"
  },
  "language_info": {
   "codemirror_mode": {
    "name": "ipython",
    "version": 3
   },
   "file_extension": ".py",
   "mimetype": "text/x-python",
   "name": "python",
   "nbconvert_exporter": "python",
   "pygments_lexer": "ipython3",
   "version": "3.11.9"
  }
 },
 "nbformat": 4,
 "nbformat_minor": 5
}
